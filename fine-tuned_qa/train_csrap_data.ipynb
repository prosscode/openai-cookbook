{
 "cells": [
  {
   "cell_type": "code",
   "execution_count": 13,
   "id": "a4693cb7",
   "metadata": {},
   "outputs": [],
   "source": [
    "import pandas as pd"
   ]
  },
  {
   "cell_type": "code",
   "execution_count": 19,
   "id": "708471ce",
   "metadata": {},
   "outputs": [
    {
     "data": {
      "text/html": [
       "<div>\n",
       "<style scoped>\n",
       "    .dataframe tbody tr th:only-of-type {\n",
       "        vertical-align: middle;\n",
       "    }\n",
       "\n",
       "    .dataframe tbody tr th {\n",
       "        vertical-align: top;\n",
       "    }\n",
       "\n",
       "    .dataframe thead th {\n",
       "        text-align: right;\n",
       "    }\n",
       "</style>\n",
       "<table border=\"1\" class=\"dataframe\">\n",
       "  <thead>\n",
       "    <tr style=\"text-align: right;\">\n",
       "      <th></th>\n",
       "      <th>Unnamed: 0</th>\n",
       "      <th>fname</th>\n",
       "      <th>text</th>\n",
       "    </tr>\n",
       "  </thead>\n",
       "  <tbody>\n",
       "    <tr>\n",
       "      <th>0</th>\n",
       "      <td>0</td>\n",
       "      <td>cards ace of cups</td>\n",
       "      <td>cards ace of cups.   Ace of Cups Tarot Card Me...</td>\n",
       "    </tr>\n",
       "    <tr>\n",
       "      <th>1</th>\n",
       "      <td>1</td>\n",
       "      <td>cards page of wands</td>\n",
       "      <td>cards page of wands.   Page of Wands Tarot Car...</td>\n",
       "    </tr>\n",
       "    <tr>\n",
       "      <th>2</th>\n",
       "      <td>2</td>\n",
       "      <td>cards six of pentacles</td>\n",
       "      <td>cards six of pentacles.   Six of Pentacles Tar...</td>\n",
       "    </tr>\n",
       "    <tr>\n",
       "      <th>3</th>\n",
       "      <td>3</td>\n",
       "      <td>cards the star</td>\n",
       "      <td>cards the star.   The Star Tarot Card Meaning ...</td>\n",
       "    </tr>\n",
       "    <tr>\n",
       "      <th>4</th>\n",
       "      <td>4</td>\n",
       "      <td>cards queen of swords</td>\n",
       "      <td>cards queen of swords.   Queen of Swords Tarot...</td>\n",
       "    </tr>\n",
       "  </tbody>\n",
       "</table>\n",
       "</div>"
      ],
      "text/plain": [
       "   Unnamed: 0                   fname  \\\n",
       "0           0       cards ace of cups   \n",
       "1           1     cards page of wands   \n",
       "2           2  cards six of pentacles   \n",
       "3           3          cards the star   \n",
       "4           4   cards queen of swords   \n",
       "\n",
       "                                                text  \n",
       "0  cards ace of cups.   Ace of Cups Tarot Card Me...  \n",
       "1  cards page of wands.   Page of Wands Tarot Car...  \n",
       "2  cards six of pentacles.   Six of Pentacles Tar...  \n",
       "3  cards the star.   The Star Tarot Card Meaning ...  \n",
       "4  cards queen of swords.   Queen of Swords Tarot...  "
      ]
     },
     "execution_count": 19,
     "metadata": {},
     "output_type": "execute_result"
    }
   ],
   "source": [
    "# 读取 CSV 文件\n",
    "df = pd.read_csv(\"scraped-1.csv\")\n",
    "\n",
    "# 输出数据框前5行\n",
    "df.head()"
   ]
  },
  {
   "cell_type": "code",
   "execution_count": 20,
   "id": "4642d65c",
   "metadata": {},
   "outputs": [
    {
     "data": {
      "text/plain": [
       "<Axes: >"
      ]
     },
     "execution_count": 20,
     "metadata": {},
     "output_type": "execute_result"
    },
    {
     "data": {
      "image/png": "[encoded data removed]",
      "text/plain": [
       "<Figure size 640x480 with 1 Axes>"
      ]
     },
     "metadata": {},
     "output_type": "display_data"
    }
   ],
   "source": [
    "import tiktoken\n",
    "\n",
    "# Load the cl100k_base tokenizer which is designed to work with the ada-002 model\n",
    "tokenizer = tiktoken.get_encoding(\"cl100k_base\")\n",
    "\n",
    "df = pd.read_csv('scraped-1.csv', index_col=0)\n",
    "df.columns = ['title', 'text']\n",
    "\n",
    "# Tokenize the text and save the number of tokens to a new column\n",
    "df['n_tokens'] = df.text.apply(lambda x: len(tokenizer.encode(x)))\n",
    "\n",
    "# Visualize the distribution of the number of tokens per row using a histogram\n",
    "df.n_tokens.hist()"
   ]
  },
  {
   "cell_type": "code",
   "execution_count": 21,
   "id": "69212412",
   "metadata": {},
   "outputs": [
    {
     "data": {
      "text/html": [
       "<div>\n",
       "<style scoped>\n",
       "    .dataframe tbody tr th:only-of-type {\n",
       "        vertical-align: middle;\n",
       "    }\n",
       "\n",
       "    .dataframe tbody tr th {\n",
       "        vertical-align: top;\n",
       "    }\n",
       "\n",
       "    .dataframe thead th {\n",
       "        text-align: right;\n",
       "    }\n",
       "</style>\n",
       "<table border=\"1\" class=\"dataframe\">\n",
       "  <thead>\n",
       "    <tr style=\"text-align: right;\">\n",
       "      <th></th>\n",
       "      <th>title</th>\n",
       "      <th>text</th>\n",
       "      <th>n_tokens</th>\n",
       "    </tr>\n",
       "  </thead>\n",
       "  <tbody>\n",
       "    <tr>\n",
       "      <th>0</th>\n",
       "      <td>cards ace of cups</td>\n",
       "      <td>cards ace of cups.   Ace of Cups Tarot Card Me...</td>\n",
       "      <td>416</td>\n",
       "    </tr>\n",
       "    <tr>\n",
       "      <th>1</th>\n",
       "      <td>cards page of wands</td>\n",
       "      <td>cards page of wands.   Page of Wands Tarot Car...</td>\n",
       "      <td>406</td>\n",
       "    </tr>\n",
       "    <tr>\n",
       "      <th>2</th>\n",
       "      <td>cards six of pentacles</td>\n",
       "      <td>cards six of pentacles.   Six of Pentacles Tar...</td>\n",
       "      <td>451</td>\n",
       "    </tr>\n",
       "    <tr>\n",
       "      <th>3</th>\n",
       "      <td>cards the star</td>\n",
       "      <td>cards the star.   The Star Tarot Card Meaning ...</td>\n",
       "      <td>422</td>\n",
       "    </tr>\n",
       "    <tr>\n",
       "      <th>4</th>\n",
       "      <td>cards queen of swords</td>\n",
       "      <td>cards queen of swords.   Queen of Swords Tarot...</td>\n",
       "      <td>459</td>\n",
       "    </tr>\n",
       "  </tbody>\n",
       "</table>\n",
       "</div>"
      ],
      "text/plain": [
       "                    title                                               text  \\\n",
       "0       cards ace of cups  cards ace of cups.   Ace of Cups Tarot Card Me...   \n",
       "1     cards page of wands  cards page of wands.   Page of Wands Tarot Car...   \n",
       "2  cards six of pentacles  cards six of pentacles.   Six of Pentacles Tar...   \n",
       "3          cards the star  cards the star.   The Star Tarot Card Meaning ...   \n",
       "4   cards queen of swords  cards queen of swords.   Queen of Swords Tarot...   \n",
       "\n",
       "   n_tokens  \n",
       "0       416  \n",
       "1       406  \n",
       "2       451  \n",
       "3       422  \n",
       "4       459  "
      ]
     },
     "execution_count": 21,
     "metadata": {},
     "output_type": "execute_result"
    }
   ],
   "source": [
    "# 输出数据框前5行\n",
    "df.head()"
   ]
  },
  {
   "cell_type": "code",
   "execution_count": 23,
   "id": "c130c6b3",
   "metadata": {},
   "outputs": [
    {
     "data": {
      "text/plain": [
       "cards ace of cups           1\n",
       "cards eight of pentacles    1\n",
       "cards king of wands         1\n",
       "cards wheel of fortune      1\n",
       "cards the lovers            1\n",
       "Name: title, dtype: int64"
      ]
     },
     "execution_count": 23,
     "metadata": {},
     "output_type": "execute_result"
    }
   ],
   "source": [
    "df.title.value_counts().head()"
   ]
  },
  {
   "cell_type": "code",
   "execution_count": 25,
   "id": "54b1c943",
   "metadata": {},
   "outputs": [
    {
     "data": {
      "text/plain": [
       "title       79\n",
       "text        79\n",
       "n_tokens    79\n",
       "dtype: int64"
      ]
     },
     "execution_count": 25,
     "metadata": {},
     "output_type": "execute_result"
    }
   ],
   "source": [
    "df.title.str.contains('cards').value_counts()\n",
    "df.count()"
   ]
  },
  {
   "cell_type": "code",
   "execution_count": 58,
   "id": "677371ad",
   "metadata": {},
   "outputs": [],
   "source": [
    "def remove_newlines(serie):\n",
    "    serie = serie.str.replace('\\n', ' ')\n",
    "    serie = serie.str.replace('\\\\n', ' ')\n",
    "    serie = serie.str.replace(r'\\s+', ' ')\n",
    "    return serie"
   ]
  },
  {
   "cell_type": "code",
   "execution_count": 71,
   "id": "db3748c4",
   "metadata": {},
   "outputs": [
    {
     "name": "stderr",
     "output_type": "stream",
     "text": [
      "/var/folders/73/0ln3ds41497gvfzlmq073p640000gn/T/ipykernel_21129/2537878337.py:3: FutureWarning: The default value of regex will change from True to False in a future version.\n",
      "  serie = serie.str.replace('\\\\n', ' ')\n",
      "/var/folders/73/0ln3ds41497gvfzlmq073p640000gn/T/ipykernel_21129/2537878337.py:4: FutureWarning: The default value of regex will change from True to False in a future version.\n",
      "  serie = serie.str.replace(r'\\s+', ' ')\n"
     ]
    },
    {
     "data": {
      "text/html": [
       "<div>\n",
       "<style scoped>\n",
       "    .dataframe tbody tr th:only-of-type {\n",
       "        vertical-align: middle;\n",
       "    }\n",
       "\n",
       "    .dataframe tbody tr th {\n",
       "        vertical-align: top;\n",
       "    }\n",
       "\n",
       "    .dataframe thead th {\n",
       "        text-align: right;\n",
       "    }\n",
       "</style>\n",
       "<table border=\"1\" class=\"dataframe\">\n",
       "  <thead>\n",
       "    <tr style=\"text-align: right;\">\n",
       "      <th></th>\n",
       "      <th>fname</th>\n",
       "      <th>text</th>\n",
       "    </tr>\n",
       "  </thead>\n",
       "  <tbody>\n",
       "    <tr>\n",
       "      <th>0</th>\n",
       "      <td>cards ace of cups</td>\n",
       "      <td>Ace of Cups Tarot Card Meaning Free Tarot Rea...</td>\n",
       "    </tr>\n",
       "    <tr>\n",
       "      <th>1</th>\n",
       "      <td>cards page of wands</td>\n",
       "      <td>Page of Wands Tarot Card Meaning Free Tarot R...</td>\n",
       "    </tr>\n",
       "    <tr>\n",
       "      <th>2</th>\n",
       "      <td>cards six of pentacles</td>\n",
       "      <td>Six of Pentacles Tarot Card Meaning Free Taro...</td>\n",
       "    </tr>\n",
       "    <tr>\n",
       "      <th>3</th>\n",
       "      <td>cards the star</td>\n",
       "      <td>The Star Tarot Card Meaning Free Tarot Readin...</td>\n",
       "    </tr>\n",
       "    <tr>\n",
       "      <th>4</th>\n",
       "      <td>cards queen of swords</td>\n",
       "      <td>Queen of Swords Tarot Card Meaning Free Tarot...</td>\n",
       "    </tr>\n",
       "  </tbody>\n",
       "</table>\n",
       "</div>"
      ],
      "text/plain": [
       "                    fname                                               text\n",
       "0       cards ace of cups   Ace of Cups Tarot Card Meaning Free Tarot Rea...\n",
       "1     cards page of wands   Page of Wands Tarot Card Meaning Free Tarot R...\n",
       "2  cards six of pentacles   Six of Pentacles Tarot Card Meaning Free Taro...\n",
       "3          cards the star   The Star Tarot Card Meaning Free Tarot Readin...\n",
       "4   cards queen of swords   Queen of Swords Tarot Card Meaning Free Tarot..."
      ]
     },
     "execution_count": 71,
     "metadata": {},
     "output_type": "execute_result"
    }
   ],
   "source": [
    "import os\n",
    "# Regex pattern to match a URL\n",
    "HTTP_URL_PATTERN = r'^http[s]*://.+'\n",
    "# Define root domain to crawl\n",
    "domain = \"trustedtarot.com\"\n",
    "full_url = \"https://trustedtarot.com/cards\"\n",
    "\n",
    "# Create a list to store the text files\n",
    "texts=[]\n",
    "# Get all the text files in the text directory\n",
    "for file in os.listdir(\"openai-cookbook/web-crawl-tarot/text/\" + domain + \"/\"):\n",
    "\n",
    "    # Open the file and read the text\n",
    "    with open(\"openai-cookbook/web-crawl-tarot/text/\" + domain + \"/\" + file, \"r\") as f:\n",
    "        text = f.read()\n",
    "\n",
    "        # Omit the first 11 lines and the last 4 lines, then replace -, _, and #update with spaces.\n",
    "        texts.append((file[17:-4].replace('-',' ').replace('_', ' ').replace('#update',''), text.split(\"Copyright ©2010 - 2023\")[0]))\n",
    "\n",
    "# Create a dataframe from the list of texts\n",
    "df = pd.DataFrame(texts, columns = ['fname', 'text'])\n",
    "\n",
    "# Set the text column to be the raw text with the newlines removed\n",
    "df['text'] = remove_newlines(df.text)\n",
    "df.to_csv('scraped-processed.csv')\n",
    "df.head()"
   ]
  },
  {
   "cell_type": "code",
   "execution_count": 34,
   "id": "d77be6de",
   "metadata": {},
   "outputs": [],
   "source": [
    "# Read in the data, and create a context"
   ]
  },
  {
   "cell_type": "code",
   "execution_count": 72,
   "id": "1c992ef2",
   "metadata": {},
   "outputs": [
    {
     "data": {
      "text/html": [
       "<div>\n",
       "<style scoped>\n",
       "    .dataframe tbody tr th:only-of-type {\n",
       "        vertical-align: middle;\n",
       "    }\n",
       "\n",
       "    .dataframe tbody tr th {\n",
       "        vertical-align: top;\n",
       "    }\n",
       "\n",
       "    .dataframe thead th {\n",
       "        text-align: right;\n",
       "    }\n",
       "</style>\n",
       "<table border=\"1\" class=\"dataframe\">\n",
       "  <thead>\n",
       "    <tr style=\"text-align: right;\">\n",
       "      <th></th>\n",
       "      <th>fname</th>\n",
       "      <th>text</th>\n",
       "      <th>n_tokens</th>\n",
       "    </tr>\n",
       "  </thead>\n",
       "  <tbody>\n",
       "    <tr>\n",
       "      <th>0</th>\n",
       "      <td>cards ace of cups</td>\n",
       "      <td>Ace of Cups Tarot Card Meaning Free Tarot Rea...</td>\n",
       "      <td>311</td>\n",
       "    </tr>\n",
       "    <tr>\n",
       "      <th>1</th>\n",
       "      <td>cards page of wands</td>\n",
       "      <td>Page of Wands Tarot Card Meaning Free Tarot R...</td>\n",
       "      <td>300</td>\n",
       "    </tr>\n",
       "    <tr>\n",
       "      <th>2</th>\n",
       "      <td>cards six of pentacles</td>\n",
       "      <td>Six of Pentacles Tarot Card Meaning Free Taro...</td>\n",
       "      <td>345</td>\n",
       "    </tr>\n",
       "    <tr>\n",
       "      <th>3</th>\n",
       "      <td>cards the star</td>\n",
       "      <td>The Star Tarot Card Meaning Free Tarot Readin...</td>\n",
       "      <td>318</td>\n",
       "    </tr>\n",
       "    <tr>\n",
       "      <th>4</th>\n",
       "      <td>cards queen of swords</td>\n",
       "      <td>Queen of Swords Tarot Card Meaning Free Tarot...</td>\n",
       "      <td>354</td>\n",
       "    </tr>\n",
       "  </tbody>\n",
       "</table>\n",
       "</div>"
      ],
      "text/plain": [
       "                    fname                                               text  \\\n",
       "0       cards ace of cups   Ace of Cups Tarot Card Meaning Free Tarot Rea...   \n",
       "1     cards page of wands   Page of Wands Tarot Card Meaning Free Tarot R...   \n",
       "2  cards six of pentacles   Six of Pentacles Tarot Card Meaning Free Taro...   \n",
       "3          cards the star   The Star Tarot Card Meaning Free Tarot Readin...   \n",
       "4   cards queen of swords   Queen of Swords Tarot Card Meaning Free Tarot...   \n",
       "\n",
       "   n_tokens  \n",
       "0       311  \n",
       "1       300  \n",
       "2       345  \n",
       "3       318  \n",
       "4       354  "
      ]
     },
     "execution_count": 72,
     "metadata": {},
     "output_type": "execute_result"
    }
   ],
   "source": [
    "import tiktoken\n",
    "\n",
    "# Load the cl100k_base tokenizer which is designed to work with the ada-002 model\n",
    "tokenizer = tiktoken.get_encoding(\"cl100k_base\")\n",
    "\n",
    "df = pd.read_csv('scraped-processed.csv', index_col=0)\n",
    "df.columns = ['fname', 'text']\n",
    "\n",
    "# Tokenize the text and save the number of tokens to a new column\n",
    "df['n_tokens'] = df.text.apply(lambda x: len(tokenizer.encode(x)))\n",
    "\n",
    "df.head()"
   ]
  },
  {
   "cell_type": "code",
   "execution_count": 73,
   "id": "c6117656",
   "metadata": {},
   "outputs": [
    {
     "data": {
      "text/html": [
       "<div>\n",
       "<style scoped>\n",
       "    .dataframe tbody tr th:only-of-type {\n",
       "        vertical-align: middle;\n",
       "    }\n",
       "\n",
       "    .dataframe tbody tr th {\n",
       "        vertical-align: top;\n",
       "    }\n",
       "\n",
       "    .dataframe thead th {\n",
       "        text-align: right;\n",
       "    }\n",
       "</style>\n",
       "<table border=\"1\" class=\"dataframe\">\n",
       "  <thead>\n",
       "    <tr style=\"text-align: right;\">\n",
       "      <th></th>\n",
       "      <th>fname</th>\n",
       "      <th>text</th>\n",
       "      <th>n_tokens</th>\n",
       "    </tr>\n",
       "  </thead>\n",
       "  <tbody>\n",
       "    <tr>\n",
       "      <th>0</th>\n",
       "      <td>cards ace of cups</td>\n",
       "      <td>Ace of Cups Tarot Card Meaning Free Tarot Rea...</td>\n",
       "      <td>311</td>\n",
       "    </tr>\n",
       "    <tr>\n",
       "      <th>1</th>\n",
       "      <td>cards page of wands</td>\n",
       "      <td>Page of Wands Tarot Card Meaning Free Tarot R...</td>\n",
       "      <td>300</td>\n",
       "    </tr>\n",
       "    <tr>\n",
       "      <th>2</th>\n",
       "      <td>cards six of pentacles</td>\n",
       "      <td>Six of Pentacles Tarot Card Meaning Free Taro...</td>\n",
       "      <td>345</td>\n",
       "    </tr>\n",
       "    <tr>\n",
       "      <th>3</th>\n",
       "      <td>cards the star</td>\n",
       "      <td>The Star Tarot Card Meaning Free Tarot Readin...</td>\n",
       "      <td>318</td>\n",
       "    </tr>\n",
       "    <tr>\n",
       "      <th>4</th>\n",
       "      <td>cards queen of swords</td>\n",
       "      <td>Queen of Swords Tarot Card Meaning Free Tarot...</td>\n",
       "      <td>354</td>\n",
       "    </tr>\n",
       "  </tbody>\n",
       "</table>\n",
       "</div>"
      ],
      "text/plain": [
       "                    fname                                               text  \\\n",
       "0       cards ace of cups   Ace of Cups Tarot Card Meaning Free Tarot Rea...   \n",
       "1     cards page of wands   Page of Wands Tarot Card Meaning Free Tarot R...   \n",
       "2  cards six of pentacles   Six of Pentacles Tarot Card Meaning Free Taro...   \n",
       "3          cards the star   The Star Tarot Card Meaning Free Tarot Readin...   \n",
       "4   cards queen of swords   Queen of Swords Tarot Card Meaning Free Tarot...   \n",
       "\n",
       "   n_tokens  \n",
       "0       311  \n",
       "1       300  \n",
       "2       345  \n",
       "3       318  \n",
       "4       354  "
      ]
     },
     "execution_count": 73,
     "metadata": {},
     "output_type": "execute_result"
    }
   ],
   "source": [
    "df.to_csv('scraped-processed.csv')\n",
    "df.head()"
   ]
  },
  {
   "cell_type": "code",
   "execution_count": 74,
   "id": "4f44a5c2",
   "metadata": {},
   "outputs": [
    {
     "data": {
      "text/html": [
       "<div>\n",
       "<style scoped>\n",
       "    .dataframe tbody tr th:only-of-type {\n",
       "        vertical-align: middle;\n",
       "    }\n",
       "\n",
       "    .dataframe tbody tr th {\n",
       "        vertical-align: top;\n",
       "    }\n",
       "\n",
       "    .dataframe thead th {\n",
       "        text-align: right;\n",
       "    }\n",
       "</style>\n",
       "<table border=\"1\" class=\"dataframe\">\n",
       "  <thead>\n",
       "    <tr style=\"text-align: right;\">\n",
       "      <th></th>\n",
       "      <th>Unnamed: 0</th>\n",
       "      <th>fname</th>\n",
       "      <th>text</th>\n",
       "      <th>n_tokens</th>\n",
       "      <th>context</th>\n",
       "    </tr>\n",
       "  </thead>\n",
       "  <tbody>\n",
       "    <tr>\n",
       "      <th>0</th>\n",
       "      <td>0</td>\n",
       "      <td>cards ace of cups</td>\n",
       "      <td>Ace of Cups Tarot Card Meaning Free Tarot Rea...</td>\n",
       "      <td>311</td>\n",
       "      <td>cards ace of cups\\n\\n Ace of Cups Tarot Card M...</td>\n",
       "    </tr>\n",
       "    <tr>\n",
       "      <th>1</th>\n",
       "      <td>1</td>\n",
       "      <td>cards page of wands</td>\n",
       "      <td>Page of Wands Tarot Card Meaning Free Tarot R...</td>\n",
       "      <td>300</td>\n",
       "      <td>cards page of wands\\n\\n Page of Wands Tarot Ca...</td>\n",
       "    </tr>\n",
       "    <tr>\n",
       "      <th>2</th>\n",
       "      <td>2</td>\n",
       "      <td>cards six of pentacles</td>\n",
       "      <td>Six of Pentacles Tarot Card Meaning Free Taro...</td>\n",
       "      <td>345</td>\n",
       "      <td>cards six of pentacles\\n\\n Six of Pentacles Ta...</td>\n",
       "    </tr>\n",
       "    <tr>\n",
       "      <th>3</th>\n",
       "      <td>3</td>\n",
       "      <td>cards the star</td>\n",
       "      <td>The Star Tarot Card Meaning Free Tarot Readin...</td>\n",
       "      <td>318</td>\n",
       "      <td>cards the star\\n\\n The Star Tarot Card Meaning...</td>\n",
       "    </tr>\n",
       "    <tr>\n",
       "      <th>4</th>\n",
       "      <td>4</td>\n",
       "      <td>cards queen of swords</td>\n",
       "      <td>Queen of Swords Tarot Card Meaning Free Tarot...</td>\n",
       "      <td>354</td>\n",
       "      <td>cards queen of swords\\n\\n Queen of Swords Taro...</td>\n",
       "    </tr>\n",
       "  </tbody>\n",
       "</table>\n",
       "</div>"
      ],
      "text/plain": [
       "   Unnamed: 0                   fname  \\\n",
       "0           0       cards ace of cups   \n",
       "1           1     cards page of wands   \n",
       "2           2  cards six of pentacles   \n",
       "3           3          cards the star   \n",
       "4           4   cards queen of swords   \n",
       "\n",
       "                                                text  n_tokens  \\\n",
       "0   Ace of Cups Tarot Card Meaning Free Tarot Rea...       311   \n",
       "1   Page of Wands Tarot Card Meaning Free Tarot R...       300   \n",
       "2   Six of Pentacles Tarot Card Meaning Free Taro...       345   \n",
       "3   The Star Tarot Card Meaning Free Tarot Readin...       318   \n",
       "4   Queen of Swords Tarot Card Meaning Free Tarot...       354   \n",
       "\n",
       "                                             context  \n",
       "0  cards ace of cups\\n\\n Ace of Cups Tarot Card M...  \n",
       "1  cards page of wands\\n\\n Page of Wands Tarot Ca...  \n",
       "2  cards six of pentacles\\n\\n Six of Pentacles Ta...  \n",
       "3  cards the star\\n\\n The Star Tarot Card Meaning...  \n",
       "4  cards queen of swords\\n\\n Queen of Swords Taro...  "
      ]
     },
     "execution_count": 74,
     "metadata": {},
     "output_type": "execute_result"
    }
   ],
   "source": [
    "import pandas as pd\n",
    "df = pd.read_csv('scraped-processed.csv')\n",
    "df['context'] = df.fname + \"\\n\\n\" + df.text\n",
    "df.head()"
   ]
  },
  {
   "cell_type": "code",
   "execution_count": 75,
   "id": "d483dcee",
   "metadata": {},
   "outputs": [
    {
     "name": "stdout",
     "output_type": "stream",
     "text": [
      "1. What does the Ace of Cups tarot card represent?\n",
      "2. What does the Ace of Cups predict for the future?\n",
      "3. What is the key interpretation of the Ace of Cups?\n",
      "4. What are the key dates, timing, and astrology associated with the Ace of Cups?\n"
     ]
    }
   ],
   "source": [
    "import openai\n",
    "\n",
    "def get_questions(context):\n",
    "    try:\n",
    "        response = openai.Completion.create(\n",
    "            engine=\"davinci-instruct-beta-v3\",\n",
    "            prompt=f\"Write questions based on the text below\\n\\nText: {context}\\n\\nQuestions:\\n1.\",\n",
    "            temperature=0,\n",
    "            max_tokens=257,\n",
    "            top_p=1,\n",
    "            frequency_penalty=0,\n",
    "            presence_penalty=0,\n",
    "            stop=[\"\\n\\n\"]\n",
    "        )\n",
    "        return response['choices'][0]['text']\n",
    "    except:\n",
    "        return \"\"\n",
    "\n",
    "\n",
    "df['questions']= df.context.apply(get_questions)\n",
    "df['questions'] = \"1.\" + df.questions\n",
    "print(df[['questions']].values[0][0])"
   ]
  },
  {
   "cell_type": "code",
   "execution_count": 77,
   "id": "a9eb635c",
   "metadata": {},
   "outputs": [
    {
     "name": "stdout",
     "output_type": "stream",
     "text": [
      "cards ace of cups\n",
      "\n",
      " Ace of Cups Tarot Card Meaning Free Tarot Reading Menu Tarot Card Meanings Tarot Cards Love Tarot Daily Tarot Reading Tarot Horoscope Biorhythms I Ching Runes Spirit Guides Tarot App Live Tarot Reading Log in Ace of Cups Abundance · Creativity · Intense relationship · Satisfaction · Success Ace of Cups Tarot card Ace of Cups's Meaning The Ace of Cups signifies the beginning of period of strong emotional health for you. Expect copious joy, happiness, and love to surround you during this time. Existing personal relationships may strengthen, meaningful new ones are likely to form. If marriage is in your future, you are likely to lay the foundations for it during this time. Past There have been numerous occasions that prove your creative talent and ability to succeed in your efforts. By being passionate and intensely focused, you have allowed for greater productivity. Present Good news is going to bring joy and extreme satisfaction to your life. Future The difficulties you face in the future will take a toll on your emotions, but in the end, will bring about abundant joy. Remembering this natural balance will bring you great rewards. Yes / No Key Interpretation The Ace of Cups represents overall satisfaction throughout all different areas of your life. It predicts success and abundance through use of good intuition and creativity. New relationships or possibly a birth or pregnancy could be associated with these positive outlooks. The answer is yes. Key Dates, Timing, and Astrology. Cancer, Scorpio, Pisces All Water signs significant Free Tarot Reading \n"
     ]
    }
   ],
   "source": [
    "print(df.context.values[0])"
   ]
  },
  {
   "cell_type": "code",
   "execution_count": 78,
   "id": "14d0ee2d",
   "metadata": {},
   "outputs": [
    {
     "data": {
      "text/html": [
       "<div>\n",
       "<style scoped>\n",
       "    .dataframe tbody tr th:only-of-type {\n",
       "        vertical-align: middle;\n",
       "    }\n",
       "\n",
       "    .dataframe tbody tr th {\n",
       "        vertical-align: top;\n",
       "    }\n",
       "\n",
       "    .dataframe thead th {\n",
       "        text-align: right;\n",
       "    }\n",
       "</style>\n",
       "<table border=\"1\" class=\"dataframe\">\n",
       "  <thead>\n",
       "    <tr style=\"text-align: right;\">\n",
       "      <th></th>\n",
       "      <th>Unnamed: 0</th>\n",
       "      <th>fname</th>\n",
       "      <th>text</th>\n",
       "      <th>n_tokens</th>\n",
       "      <th>context</th>\n",
       "      <th>questions</th>\n",
       "    </tr>\n",
       "  </thead>\n",
       "  <tbody>\n",
       "    <tr>\n",
       "      <th>0</th>\n",
       "      <td>0</td>\n",
       "      <td>cards ace of cups</td>\n",
       "      <td>Ace of Cups Tarot Card Meaning Free Tarot Rea...</td>\n",
       "      <td>311</td>\n",
       "      <td>cards ace of cups\\n\\n Ace of Cups Tarot Card M...</td>\n",
       "      <td>1. What does the Ace of Cups tarot card repres...</td>\n",
       "    </tr>\n",
       "    <tr>\n",
       "      <th>1</th>\n",
       "      <td>1</td>\n",
       "      <td>cards page of wands</td>\n",
       "      <td>Page of Wands Tarot Card Meaning Free Tarot R...</td>\n",
       "      <td>300</td>\n",
       "      <td>cards page of wands\\n\\n Page of Wands Tarot Ca...</td>\n",
       "      <td>1. What does the Page of Wands represent?\\n2. ...</td>\n",
       "    </tr>\n",
       "    <tr>\n",
       "      <th>2</th>\n",
       "      <td>2</td>\n",
       "      <td>cards six of pentacles</td>\n",
       "      <td>Six of Pentacles Tarot Card Meaning Free Taro...</td>\n",
       "      <td>345</td>\n",
       "      <td>cards six of pentacles\\n\\n Six of Pentacles Ta...</td>\n",
       "      <td>1. What does the Six of Pentacles tarot card r...</td>\n",
       "    </tr>\n",
       "    <tr>\n",
       "      <th>3</th>\n",
       "      <td>3</td>\n",
       "      <td>cards the star</td>\n",
       "      <td>The Star Tarot Card Meaning Free Tarot Readin...</td>\n",
       "      <td>318</td>\n",
       "      <td>cards the star\\n\\n The Star Tarot Card Meaning...</td>\n",
       "      <td>1. What does the Star Tarot card represent?\\n2...</td>\n",
       "    </tr>\n",
       "    <tr>\n",
       "      <th>4</th>\n",
       "      <td>4</td>\n",
       "      <td>cards queen of swords</td>\n",
       "      <td>Queen of Swords Tarot Card Meaning Free Tarot...</td>\n",
       "      <td>354</td>\n",
       "      <td>cards queen of swords\\n\\n Queen of Swords Taro...</td>\n",
       "      <td>1. What kind of person is the Queen of Swords?...</td>\n",
       "    </tr>\n",
       "  </tbody>\n",
       "</table>\n",
       "</div>"
      ],
      "text/plain": [
       "   Unnamed: 0                   fname  \\\n",
       "0           0       cards ace of cups   \n",
       "1           1     cards page of wands   \n",
       "2           2  cards six of pentacles   \n",
       "3           3          cards the star   \n",
       "4           4   cards queen of swords   \n",
       "\n",
       "                                                text  n_tokens  \\\n",
       "0   Ace of Cups Tarot Card Meaning Free Tarot Rea...       311   \n",
       "1   Page of Wands Tarot Card Meaning Free Tarot R...       300   \n",
       "2   Six of Pentacles Tarot Card Meaning Free Taro...       345   \n",
       "3   The Star Tarot Card Meaning Free Tarot Readin...       318   \n",
       "4   Queen of Swords Tarot Card Meaning Free Tarot...       354   \n",
       "\n",
       "                                             context  \\\n",
       "0  cards ace of cups\\n\\n Ace of Cups Tarot Card M...   \n",
       "1  cards page of wands\\n\\n Page of Wands Tarot Ca...   \n",
       "2  cards six of pentacles\\n\\n Six of Pentacles Ta...   \n",
       "3  cards the star\\n\\n The Star Tarot Card Meaning...   \n",
       "4  cards queen of swords\\n\\n Queen of Swords Taro...   \n",
       "\n",
       "                                           questions  \n",
       "0  1. What does the Ace of Cups tarot card repres...  \n",
       "1  1. What does the Page of Wands represent?\\n2. ...  \n",
       "2  1. What does the Six of Pentacles tarot card r...  \n",
       "3  1. What does the Star Tarot card represent?\\n2...  \n",
       "4  1. What kind of person is the Queen of Swords?...  "
      ]
     },
     "execution_count": 78,
     "metadata": {},
     "output_type": "execute_result"
    }
   ],
   "source": [
    "df.head()"
   ]
  },
  {
   "cell_type": "code",
   "execution_count": 79,
   "id": "00f5325f",
   "metadata": {},
   "outputs": [
    {
     "name": "stdout",
     "output_type": "stream",
     "text": [
      "1. The Ace of Cups tarot card represents abundance, creativity, intense relationships, satisfaction, and success.\n",
      "2. The Ace of Cups predicts success and abundance through good intuition and creativity. New relationships or a birth or pregnancy could be associated with these positive outlooks.\n",
      "3. The key interpretation of the Ace of Cups is overall satisfaction throughout all different areas of your life. It predicts success and abundance through use of good intuition and creativity.\n",
      "4. The key dates, timing, and astrology associated with the Ace of Cups are Cancer, Scorpio, and Pisces, all water signs significant in astrology.\n"
     ]
    }
   ],
   "source": [
    "def get_answers(row):\n",
    "    try:\n",
    "        response = openai.Completion.create(\n",
    "            engine=\"davinci-instruct-beta-v3\",\n",
    "            prompt=f\"Write answer based on the text below\\n\\nText: {row.context}\\n\\nQuestions:\\n{row.questions}\\n\\nAnswers:\\n1.\",\n",
    "            temperature=0,\n",
    "            max_tokens=257,\n",
    "            top_p=1,\n",
    "            frequency_penalty=0,\n",
    "            presence_penalty=0\n",
    "        )\n",
    "        return response['choices'][0]['text']\n",
    "    except Exception as e:\n",
    "        print (e)\n",
    "        return \"\"\n",
    "\n",
    "\n",
    "df['answers']= df.apply(get_answers, axis=1)\n",
    "df['answers'] = \"1.\" + df.answers\n",
    "df = df.dropna().reset_index().drop('index',axis=1)\n",
    "print(df[['answers']].values[0][0])"
   ]
  },
  {
   "cell_type": "code",
   "execution_count": 80,
   "id": "c03ade2c",
   "metadata": {},
   "outputs": [],
   "source": [
    "df.to_csv('scraped_qa.csv', index=False)"
   ]
  },
  {
   "cell_type": "code",
   "execution_count": null,
   "id": "fc641c84",
   "metadata": {},
   "outputs": [],
   "source": [
    "# Train a fine-tuning model specialized for Q&A"
   ]
  },
  {
   "cell_type": "code",
   "execution_count": 81,
   "id": "add5213a",
   "metadata": {},
   "outputs": [],
   "source": [
    "df = pd.read_csv('scraped_qa.csv')"
   ]
  },
  {
   "cell_type": "code",
   "execution_count": 82,
   "id": "a373f522",
   "metadata": {},
   "outputs": [
    {
     "data": {
      "text/plain": [
       "(63, 16)"
      ]
     },
     "execution_count": 82,
     "metadata": {},
     "output_type": "execute_result"
    }
   ],
   "source": [
    "from sklearn.model_selection import train_test_split\n",
    "train_df, test_df = train_test_split(df, test_size=0.2, random_state=42)\n",
    "len(train_df), len(test_df)"
   ]
  },
  {
   "cell_type": "code",
   "execution_count": 83,
   "id": "d1f5ca54",
   "metadata": {},
   "outputs": [
    {
     "data": {
      "text/plain": [
       "0"
      ]
     },
     "execution_count": 83,
     "metadata": {},
     "output_type": "execute_result"
    }
   ],
   "source": [
    "df.context.str.contains('->').sum()"
   ]
  },
  {
   "cell_type": "code",
   "execution_count": 86,
   "id": "f9b3eb54",
   "metadata": {},
   "outputs": [],
   "source": [
    "def create_fine_tuning_dataset(df, discriminator=False, n_negative=1, add_related=False):\n",
    "    \"\"\"\n",
    "    Create a dataset for fine tuning the OpenAI model; either for a discriminator model, \n",
    "    or a model specializing in Q&A, where it says if no relevant context is found.\n",
    "\n",
    "    Parameters\n",
    "    ----------\n",
    "    df: pd.DataFrame\n",
    "        The dataframe containing the question, answer and context pairs\n",
    "    discriminator: bool\n",
    "        Whether to create a dataset for the discriminator\n",
    "    n_negative: int\n",
    "        The number of random negative samples to add (using a random context)\n",
    "    add_related: bool\n",
    "        Whether to add the related contexts to the correct context. These are hard negative examples\n",
    "\n",
    "    Returns\n",
    "    -------\n",
    "    pd.DataFrame\n",
    "        The dataframe containing the prompts and completions, ready for fine-tuning\n",
    "    \"\"\"\n",
    "    rows = []\n",
    "    for i, row in df.iterrows():\n",
    "        for q, a in zip((\"1.\" + row.questions).split('\\n'), (\"1.\" + row.answers).split('\\n')):\n",
    "            if len(q) >10 and len(a) >10:\n",
    "                if discriminator:\n",
    "                    rows.append({\"prompt\":f\"{row.context}\\nQuestion: {q[2:].strip()}\\n Related:\", \"completion\":f\" yes\"})\n",
    "                else:\n",
    "                    rows.append({\"prompt\":f\"{row.context}\\nQuestion: {q[2:].strip()}\\nAnswer:\", \"completion\":f\" {a[2:].strip()}\"})\n",
    "    return pd.DataFrame(rows) \n",
    "        \n",
    "\n",
    "for name, is_disc in [('discriminator', True), ('qa', False)]:\n",
    "    for train_test, dt in [('train', train_df), ('test', test_df)]:\n",
    "        ft = create_fine_tuning_dataset(dt, discriminator=is_disc, n_negative=1, add_related=True)\n",
    "        ft.to_json(f'{name}_{train_test}.jsonl', orient='records', lines=True)\n",
    "\n"
   ]
  },
  {
   "cell_type": "code",
   "execution_count": 87,
   "id": "b2fa755c",
   "metadata": {},
   "outputs": [
    {
     "name": "stdout",
     "output_type": "stream",
     "text": [
      "Analyzing...\n",
      "\n",
      "- Your file contains 311 prompt-completion pairs\n",
      "- All prompts end with suffix `\\nAnswer:`\n",
      "- All prompts start with prefix `cards`\n",
      "- All completions end with suffix `.`\n",
      "  WARNING: Some of your completions contain the suffix `.` more than once. We suggest that you review your completions and add a unique ending\n",
      "\n",
      "No remediations found.\n",
      "\n",
      "You can use your file for fine-tuning:\n",
      "> openai api fine_tunes.create -t \"qa_train.jsonl\"\n",
      "\n",
      "After you’ve fine-tuned a model, remember that your prompt has to end with the indicator string `\\nAnswer:` for the model to start generating completions, rather than continuing with the prompt. Make sure to include `stop=[\".\"]` so that the generated texts ends at the expected place.\n",
      "Once your model starts training, it'll approximately take 6.71 minutes to train a `curie` model, and less for `ada` and `babbage`. Queue will approximately take half an hour per job ahead of you.\n"
     ]
    }
   ],
   "source": [
    "!openai tools fine_tunes.prepare_data -f qa_train.jsonl"
   ]
  },
  {
   "cell_type": "code",
   "execution_count": 88,
   "id": "c16f8468",
   "metadata": {},
   "outputs": [
    {
     "name": "stdout",
     "output_type": "stream",
     "text": [
      "Upload progress: 100%|███████████████████████| 602k/602k [00:00<00:00, 355Mit/s]\n",
      "Uploaded file from discriminator_train.jsonl: file-16Mj3VNQhbD3Ec4WGNsgi87A\n",
      "Upload progress: 100%|███████████████████████| 142k/142k [00:00<00:00, 144Mit/s]\n",
      "Uploaded file from discriminator_test.jsonl: file-tGKJAIL4ZwqlJlfdl4DU2YAI\n",
      "Created fine-tune: ft-9OB2HPC0YxiiX72axpqj8gtL\n",
      "Streaming events until fine-tuning is complete...\n",
      "\n",
      "(Ctrl-C will interrupt the stream, but not cancel the fine-tune)\n",
      "[2023-03-30 23:17:06] Created fine-tune: ft-9OB2HPC0YxiiX72axpqj8gtL\n",
      "\n",
      "Stream interrupted (client disconnected).\n",
      "To resume the stream, run:\n",
      "\n",
      "  openai api fine_tunes.follow -i ft-9OB2HPC0YxiiX72axpqj8gtL\n",
      "\n"
     ]
    }
   ],
   "source": [
    "!openai api fine_tunes.create -t \"discriminator_train.jsonl\" -v \"discriminator_test.jsonl\" --batch_size 16"
   ]
  },
  {
   "cell_type": "code",
   "execution_count": null,
   "id": "a6c4f22c",
   "metadata": {},
   "outputs": [],
   "source": [
    "!openai api fine_tunes.create -t \"qa_train.jsonl\" -v \"qa_test.jsonl\" \\\n",
    "-m curie \\\n",
    "--suffix \"tarot_qa_demo\" \\\n",
    "--batch_size 16 "
   ]
  },
  {
   "cell_type": "code",
   "execution_count": 93,
   "id": "8d3f931b",
   "metadata": {},
   "outputs": [
    {
     "name": "stdout",
     "output_type": "stream",
     "text": [
      "[2023-03-30 23:17:06] Created fine-tune: ft-9OB2HPC0YxiiX72axpqj8gtL\n",
      "[2023-03-30 23:19:38] Fine-tune costs $1.48\n",
      "[2023-03-30 23:19:38] Fine-tune enqueued. Queue number: 9\n",
      "[2023-03-30 23:21:06] Fine-tune is in the queue. Queue number: 8\n",
      "\n",
      "Stream interrupted (client disconnected).\n",
      "To resume the stream, run:\n",
      "\n",
      "  openai api fine_tunes.follow -i ft-9OB2HPC0YxiiX72axpqj8gtL\n",
      "\n"
     ]
    }
   ],
   "source": [
    "!openai api fine_tunes.follow -i ft-9OB2HPC0YxiiX72axpqj8gtL"
   ]
  },
  {
   "cell_type": "code",
   "execution_count": null,
   "id": "8c6a012f",
   "metadata": {},
   "outputs": [],
   "source": [
    "ft_discriminator = \"curie:ft-personal-2023-03-30-15-37-48\"\n",
    "ft_qa = \"curie:ft-personal:tarot-qa-demo-2023-03-30-16-20-07\"\n",
    "\n",
    "def apply_ft_discriminator(context, question, discriminator_model):\n",
    "    \"\"\"\n",
    "    Apply the fine tuned discriminator to a question, to assess whether it can be answered from the context.\n",
    "    \"\"\"\n",
    "    prompt = f\"{context}\\nQuestion: {question}\\n Related:\"\n",
    "    result = openai.Completion.create(model=discriminator_model, prompt=prompt, max_tokens=20, temperature=0, top_p=1, n=1, logprobs=2)\n",
    "    return result['choices'][0]['logprobs']['top_logprobs']\n",
    "\n",
    "apply_ft_discriminator('The first human-made object in space was the Soviet Union satellite Sputnik 1 on 4 October 1957.', \n",
    "                        'What was the first human-made object in space?', ft_discriminator)"
   ]
  }
 ],
 "metadata": {
  "kernelspec": {
   "display_name": "Python 3 (ipykernel)",
   "language": "python",
   "name": "python3"
  },
  "language_info": {
   "codemirror_mode": {
    "name": "ipython",
    "version": 3
   },
   "file_extension": ".py",
   "mimetype": "text/x-python",
   "name": "python",
   "nbconvert_exporter": "python",
   "pygments_lexer": "ipython3",
   "version": "3.10.10"
  }
 },
 "nbformat": 4,
 "nbformat_minor": 5
}
