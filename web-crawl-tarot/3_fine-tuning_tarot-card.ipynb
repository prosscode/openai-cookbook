{
 "cells": [
  {
   "cell_type": "code",
   "execution_count": 63,
   "id": "f4b30919",
   "metadata": {},
   "outputs": [
    {
     "data": {
      "text/plain": [
       "<Axes: >"
      ]
     },
     "execution_count": 63,
     "metadata": {},
     "output_type": "execute_result"
    },
    {
     "data": {
      "image/png": "[encoded data removed]",
      "text/plain": [
       "<Figure size 640x480 with 1 Axes>"
      ]
     },
     "metadata": {},
     "output_type": "display_data"
    }
   ],
   "source": [
    "import tiktoken\n",
    "import os\n",
    "import pandas as pd\n",
    "\n",
    "# Load the cl100k_base tokenizer which is designed to work with the ada-002 model\n",
    "tokenizer = tiktoken.get_encoding(\"cl100k_base\")\n",
    "\n",
    "df = pd.read_csv('processed/scraped_1.csv', index_col=0)\n",
    "df.columns = ['title', 'text']\n",
    "\n",
    "# Tokenize the text and save the number of tokens to a new column\n",
    "df['n_tokens'] = df.text.apply(lambda x: len(tokenizer.encode(x)))\n",
    "\n",
    "# Visualize the distribution of the number of tokens per row using a histogram\n",
    "df.n_tokens.hist()"
   ]
  },
  {
   "cell_type": "code",
   "execution_count": 64,
   "id": "4fafb903",
   "metadata": {},
   "outputs": [
    {
     "data": {
      "text/html": [
       "<div>\n",
       "<style scoped>\n",
       "    .dataframe tbody tr th:only-of-type {\n",
       "        vertical-align: middle;\n",
       "    }\n",
       "\n",
       "    .dataframe tbody tr th {\n",
       "        vertical-align: top;\n",
       "    }\n",
       "\n",
       "    .dataframe thead th {\n",
       "        text-align: right;\n",
       "    }\n",
       "</style>\n",
       "<table border=\"1\" class=\"dataframe\">\n",
       "  <thead>\n",
       "    <tr style=\"text-align: right;\">\n",
       "      <th></th>\n",
       "      <th>title</th>\n",
       "      <th>text</th>\n",
       "      <th>n_tokens</th>\n",
       "    </tr>\n",
       "  </thead>\n",
       "  <tbody>\n",
       "    <tr>\n",
       "      <th>0</th>\n",
       "      <td>cards ace of cups</td>\n",
       "      <td>Ace of Cups Tarot Card Meaning     Free Taro...</td>\n",
       "      <td>291</td>\n",
       "    </tr>\n",
       "    <tr>\n",
       "      <th>1</th>\n",
       "      <td>cards page of wands</td>\n",
       "      <td>Page of Wands Tarot Card Meaning     Free Ta...</td>\n",
       "      <td>283</td>\n",
       "    </tr>\n",
       "    <tr>\n",
       "      <th>2</th>\n",
       "      <td>cards six of pentacles</td>\n",
       "      <td>Six of Pentacles Tarot Card Meaning     Free...</td>\n",
       "      <td>324</td>\n",
       "    </tr>\n",
       "    <tr>\n",
       "      <th>3</th>\n",
       "      <td>cards the star</td>\n",
       "      <td>The Star Tarot Card Meaning     Free Tarot R...</td>\n",
       "      <td>297</td>\n",
       "    </tr>\n",
       "    <tr>\n",
       "      <th>4</th>\n",
       "      <td>cards queen of swords</td>\n",
       "      <td>Queen of Swords Tarot Card Meaning     Free ...</td>\n",
       "      <td>330</td>\n",
       "    </tr>\n",
       "  </tbody>\n",
       "</table>\n",
       "</div>"
      ],
      "text/plain": [
       "                    title                                               text  \\\n",
       "0       cards ace of cups    Ace of Cups Tarot Card Meaning     Free Taro...   \n",
       "1     cards page of wands    Page of Wands Tarot Card Meaning     Free Ta...   \n",
       "2  cards six of pentacles    Six of Pentacles Tarot Card Meaning     Free...   \n",
       "3          cards the star    The Star Tarot Card Meaning     Free Tarot R...   \n",
       "4   cards queen of swords    Queen of Swords Tarot Card Meaning     Free ...   \n",
       "\n",
       "   n_tokens  \n",
       "0       291  \n",
       "1       283  \n",
       "2       324  \n",
       "3       297  \n",
       "4       330  "
      ]
     },
     "execution_count": 64,
     "metadata": {},
     "output_type": "execute_result"
    }
   ],
   "source": [
    "import pandas as pd\n",
    "df.head()"
   ]
  },
  {
   "cell_type": "code",
   "execution_count": 28,
   "id": "f6996862",
   "metadata": {},
   "outputs": [
    {
     "name": "stdout",
     "output_type": "stream",
     "text": [
      "1. What is the Ace of Cups tarot card associated with?\n",
      "2. What does the Ace of Cups tarot card represent?\n",
      "3. What are some of the things the Ace of Cups tarot card predicts?\n"
     ]
    }
   ],
   "source": [
    "# Create questions based on the context\n",
    "import openai\n",
    "\n",
    "def get_questions(context):\n",
    "    try:\n",
    "        response = openai.Completion.create(\n",
    "            engine=\"davinci-instruct-beta-v3\",\n",
    "            prompt=f\"Write three questions about people based on the tarot cards below\\n\\nText: {context}\\n\\nQuestions:\\n1.\",\n",
    "            temperature=0,\n",
    "            max_tokens=257,\n",
    "            top_p=1,\n",
    "            frequency_penalty=0,\n",
    "            presence_penalty=0,\n",
    "            stop=[\"\\n\\n\"]\n",
    "        )\n",
    "        return response['choices'][0]['text']\n",
    "    except:\n",
    "        return \"\"\n",
    "\n",
    "df['questions']= df.text.apply(get_questions)\n",
    "df['questions'] = \"1.\" + df.questions\n",
    "print(df[['questions']].values[0][0])"
   ]
  },
  {
   "cell_type": "code",
   "execution_count": 29,
   "id": "5fa56aea",
   "metadata": {},
   "outputs": [],
   "source": [
    "df.head()\n",
    "# df = df.drop(columns=['context'])\n",
    "df.to_csv('processed/scraped_q.csv')"
   ]
  },
  {
   "cell_type": "code",
   "execution_count": 62,
   "id": "530eafd7",
   "metadata": {},
   "outputs": [
    {
     "name": "stdout",
     "output_type": "stream",
     "text": [
      "'Series' object has no attribute 'text'\n",
      "'Series' object has no attribute 'text'\n",
      "'Series' object has no attribute 'text'\n",
      "'Series' object has no attribute 'text'\n",
      "'Series' object has no attribute 'text'\n",
      "'Series' object has no attribute 'text'\n",
      "'Series' object has no attribute 'text'\n",
      "'Series' object has no attribute 'text'\n",
      "'Series' object has no attribute 'text'\n",
      "'Series' object has no attribute 'text'\n",
      "'Series' object has no attribute 'text'\n",
      "'Series' object has no attribute 'text'\n",
      "'Series' object has no attribute 'text'\n",
      "'Series' object has no attribute 'text'\n",
      "'Series' object has no attribute 'text'\n",
      "'Series' object has no attribute 'text'\n",
      "'Series' object has no attribute 'text'\n",
      "'Series' object has no attribute 'text'\n",
      "'Series' object has no attribute 'text'\n",
      "'Series' object has no attribute 'text'\n",
      "'Series' object has no attribute 'text'\n",
      "'Series' object has no attribute 'text'\n",
      "'Series' object has no attribute 'text'\n",
      "'Series' object has no attribute 'text'\n",
      "'Series' object has no attribute 'text'\n",
      "'Series' object has no attribute 'text'\n",
      "'Series' object has no attribute 'text'\n",
      "'Series' object has no attribute 'text'\n",
      "'Series' object has no attribute 'text'\n",
      "'Series' object has no attribute 'text'\n",
      "'Series' object has no attribute 'text'\n",
      "'Series' object has no attribute 'text'\n",
      "'Series' object has no attribute 'text'\n",
      "'Series' object has no attribute 'text'\n",
      "'Series' object has no attribute 'text'\n",
      "'Series' object has no attribute 'text'\n",
      "'Series' object has no attribute 'text'\n",
      "'Series' object has no attribute 'text'\n",
      "'Series' object has no attribute 'text'\n",
      "'Series' object has no attribute 'text'\n",
      "'Series' object has no attribute 'text'\n",
      "'Series' object has no attribute 'text'\n",
      "'Series' object has no attribute 'text'\n",
      "'Series' object has no attribute 'text'\n",
      "'Series' object has no attribute 'text'\n",
      "'Series' object has no attribute 'text'\n",
      "'Series' object has no attribute 'text'\n",
      "'Series' object has no attribute 'text'\n",
      "'Series' object has no attribute 'text'\n",
      "'Series' object has no attribute 'text'\n",
      "'Series' object has no attribute 'text'\n",
      "'Series' object has no attribute 'text'\n",
      "'Series' object has no attribute 'text'\n",
      "'Series' object has no attribute 'text'\n",
      "'Series' object has no attribute 'text'\n",
      "'Series' object has no attribute 'text'\n",
      "'Series' object has no attribute 'text'\n",
      "'Series' object has no attribute 'text'\n",
      "'Series' object has no attribute 'text'\n",
      "'Series' object has no attribute 'text'\n",
      "'Series' object has no attribute 'text'\n",
      "'Series' object has no attribute 'text'\n",
      "'Series' object has no attribute 'text'\n",
      "'Series' object has no attribute 'text'\n",
      "'Series' object has no attribute 'text'\n",
      "'Series' object has no attribute 'text'\n",
      "'Series' object has no attribute 'text'\n",
      "'Series' object has no attribute 'text'\n",
      "'Series' object has no attribute 'text'\n",
      "'Series' object has no attribute 'text'\n",
      "'Series' object has no attribute 'text'\n",
      "'Series' object has no attribute 'text'\n",
      "'Series' object has no attribute 'text'\n",
      "'Series' object has no attribute 'text'\n",
      "'Series' object has no attribute 'text'\n",
      "'Series' object has no attribute 'text'\n",
      "'Series' object has no attribute 'text'\n",
      "'Series' object has no attribute 'text'\n",
      "'Series' object has no attribute 'text'\n",
      "'Series' object has no attribute 'text'\n",
      "'Series' object has no attribute 'text'\n",
      "'Series' object has no attribute 'text'\n",
      "'Series' object has no attribute 'text'\n",
      "'Series' object has no attribute 'text'\n",
      "'Series' object has no attribute 'text'\n",
      "'Series' object has no attribute 'text'\n",
      "'Series' object has no attribute 'text'\n",
      "'Series' object has no attribute 'text'\n",
      "'Series' object has no attribute 'text'\n",
      "'Series' object has no attribute 'text'\n",
      "'Series' object has no attribute 'text'\n",
      "'Series' object has no attribute 'text'\n",
      "'Series' object has no attribute 'text'\n",
      "'Series' object has no attribute 'text'\n",
      "'Series' object has no attribute 'text'\n",
      "'Series' object has no attribute 'text'\n",
      "'Series' object has no attribute 'text'\n",
      "'Series' object has no attribute 'text'\n",
      "'Series' object has no attribute 'text'\n",
      "'Series' object has no attribute 'text'\n",
      "'Series' object has no attribute 'text'\n",
      "'Series' object has no attribute 'text'\n",
      "'Series' object has no attribute 'text'\n",
      "'Series' object has no attribute 'text'\n",
      "'Series' object has no attribute 'text'\n",
      "'Series' object has no attribute 'text'\n",
      "'Series' object has no attribute 'text'\n",
      "'Series' object has no attribute 'text'\n",
      "'Series' object has no attribute 'text'\n",
      "'Series' object has no attribute 'text'\n",
      "'Series' object has no attribute 'text'\n",
      "'Series' object has no attribute 'text'\n",
      "'Series' object has no attribute 'text'\n",
      "'Series' object has no attribute 'text'\n",
      "'Series' object has no attribute 'text'\n",
      "'Series' object has no attribute 'text'\n",
      "'Series' object has no attribute 'text'\n",
      "'Series' object has no attribute 'text'\n",
      "'Series' object has no attribute 'text'\n",
      "'Series' object has no attribute 'text'\n",
      "'Series' object has no attribute 'text'\n",
      "'Series' object has no attribute 'text'\n",
      "'Series' object has no attribute 'text'\n",
      "'Series' object has no attribute 'text'\n",
      "'Series' object has no attribute 'text'\n",
      "'Series' object has no attribute 'text'\n",
      "'Series' object has no attribute 'text'\n",
      "'Series' object has no attribute 'text'\n",
      "'Series' object has no attribute 'text'\n",
      "'Series' object has no attribute 'text'\n",
      "'Series' object has no attribute 'text'\n",
      "'Series' object has no attribute 'text'\n",
      "'Series' object has no attribute 'text'\n",
      "'Series' object has no attribute 'text'\n",
      "'Series' object has no attribute 'text'\n",
      "'Series' object has no attribute 'text'\n",
      "'Series' object has no attribute 'text'\n",
      "'Series' object has no attribute 'text'\n",
      "'Series' object has no attribute 'text'\n",
      "'Series' object has no attribute 'text'\n",
      "'Series' object has no attribute 'text'\n",
      "'Series' object has no attribute 'text'\n",
      "'Series' object has no attribute 'text'\n",
      "'Series' object has no attribute 'text'\n",
      "'Series' object has no attribute 'text'\n",
      "'Series' object has no attribute 'text'\n",
      "'Series' object has no attribute 'text'\n",
      "'Series' object has no attribute 'text'\n",
      "'Series' object has no attribute 'text'\n",
      "'Series' object has no attribute 'text'\n",
      "'Series' object has no attribute 'text'\n",
      "'Series' object has no attribute 'text'\n",
      "'Series' object has no attribute 'text'\n",
      "'Series' object has no attribute 'text'\n",
      "'Series' object has no attribute 'text'\n",
      "'Series' object has no attribute 'text'\n",
      "'Series' object has no attribute 'text'\n",
      "'Series' object has no attribute 'text'\n",
      "'Series' object has no attribute 'text'\n",
      "'Series' object has no attribute 'text'\n",
      "'Series' object has no attribute 'text'\n",
      "'Series' object has no attribute 'text'\n",
      "'Series' object has no attribute 'text'\n",
      "'Series' object has no attribute 'text'\n",
      "'Series' object has no attribute 'text'\n",
      "'Series' object has no attribute 'text'\n",
      "'Series' object has no attribute 'text'\n",
      "'Series' object has no attribute 'text'\n",
      "'Series' object has no attribute 'text'\n",
      "'Series' object has no attribute 'text'\n",
      "'Series' object has no attribute 'text'\n",
      "'Series' object has no attribute 'text'\n",
      "'Series' object has no attribute 'text'\n",
      "'Series' object has no attribute 'text'\n",
      "'Series' object has no attribute 'text'\n",
      "'Series' object has no attribute 'text'\n",
      "'Series' object has no attribute 'text'\n",
      "'Series' object has no attribute 'text'\n",
      "'Series' object has no attribute 'text'\n",
      "'Series' object has no attribute 'text'\n",
      "'Series' object has no attribute 'text'\n",
      "'Series' object has no attribute 'text'\n",
      "'Series' object has no attribute 'text'\n",
      "'Series' object has no attribute 'text'\n",
      "'Series' object has no attribute 'text'\n",
      "'Series' object has no attribute 'text'\n",
      "'Series' object has no attribute 'text'\n",
      "'Series' object has no attribute 'text'\n",
      "'Series' object has no attribute 'text'\n",
      "'Series' object has no attribute 'text'\n",
      "'Series' object has no attribute 'text'\n",
      "'Series' object has no attribute 'text'\n",
      "'Series' object has no attribute 'text'\n",
      "'Series' object has no attribute 'text'\n",
      "'Series' object has no attribute 'text'\n",
      "'Series' object has no attribute 'text'\n",
      "'Series' object has no attribute 'text'\n",
      "'Series' object has no attribute 'text'\n",
      "'Series' object has no attribute 'text'\n",
      "'Series' object has no attribute 'text'\n",
      "'Series' object has no attribute 'text'\n",
      "'Series' object has no attribute 'text'\n",
      "'Series' object has no attribute 'text'\n",
      "'Series' object has no attribute 'text'\n",
      "'Series' object has no attribute 'text'\n",
      "'Series' object has no attribute 'text'\n",
      "'Series' object has no attribute 'text'\n",
      "'Series' object has no attribute 'text'\n",
      "'Series' object has no attribute 'text'\n",
      "'Series' object has no attribute 'text'\n",
      "'Series' object has no attribute 'text'\n",
      "'Series' object has no attribute 'text'\n",
      "'Series' object has no attribute 'text'\n",
      "'Series' object has no attribute 'text'\n",
      "'Series' object has no attribute 'text'\n",
      "'Series' object has no attribute 'text'\n",
      "'Series' object has no attribute 'text'\n",
      "'Series' object has no attribute 'text'\n",
      "'Series' object has no attribute 'text'\n",
      "'Series' object has no attribute 'text'\n",
      "'Series' object has no attribute 'text'\n",
      "'Series' object has no attribute 'text'\n",
      "'Series' object has no attribute 'text'\n",
      "'Series' object has no attribute 'text'\n",
      "'Series' object has no attribute 'text'\n",
      "'Series' object has no attribute 'text'\n",
      "'Series' object has no attribute 'text'\n",
      "'Series' object has no attribute 'text'\n",
      "'Series' object has no attribute 'text'\n",
      "'Series' object has no attribute 'text'\n",
      "'Series' object has no attribute 'text'\n",
      "'Series' object has no attribute 'text'\n",
      "'Series' object has no attribute 'text'\n",
      "1.\n"
     ]
    }
   ],
   "source": [
    "# Create answers based on the context\n",
    "def get_answers(row):\n",
    "    try:\n",
    "        response = openai.Completion.create(\n",
    "            engine=\"davinci-instruct-beta-v3\",\n",
    "            prompt=f\"Write answer based on the text below\\n\\nText: {row.text}\\n\\nQuestions:\\n{row.questions}\\n\\nAnswers:\\n1.\",\n",
    "            temperature=0,\n",
    "            max_tokens=256,\n",
    "            top_p=1,\n",
    "            frequency_penalty=0,\n",
    "            presence_penalty=0\n",
    "        )\n",
    "        return response['choices'][0]['text']\n",
    "    except Exception as e:\n",
    "        print (e)\n",
    "        return \"\"\n",
    "\n",
    "\n",
    "df['answers']= df.apply(get_answers, axis=1)\n",
    "df['answers'] = \"1.\" + df.answers\n",
    "df = df.dropna().reset_index().drop('index',axis=1)\n",
    "print(df[['answers']].values[0][0])"
   ]
  },
  {
   "cell_type": "code",
   "execution_count": 60,
   "id": "890d7f59",
   "metadata": {},
   "outputs": [],
   "source": [
    "df.head()\n",
    "# df = df.drop(columns=['context'])\n",
    "df.to_csv('processed/scraped_qa.csv',  index=False)"
   ]
  },
  {
   "cell_type": "code",
   "execution_count": 61,
   "id": "2b0973e0",
   "metadata": {},
   "outputs": [
    {
     "data": {
      "text/html": [
       "<div>\n",
       "<style scoped>\n",
       "    .dataframe tbody tr th:only-of-type {\n",
       "        vertical-align: middle;\n",
       "    }\n",
       "\n",
       "    .dataframe tbody tr th {\n",
       "        vertical-align: top;\n",
       "    }\n",
       "\n",
       "    .dataframe thead th {\n",
       "        text-align: right;\n",
       "    }\n",
       "</style>\n",
       "<table border=\"1\" class=\"dataframe\">\n",
       "  <thead>\n",
       "    <tr style=\"text-align: right;\">\n",
       "      <th></th>\n",
       "      <th>prompt</th>\n",
       "      <th>completion</th>\n",
       "    </tr>\n",
       "  </thead>\n",
       "  <tbody>\n",
       "    <tr>\n",
       "      <th>0</th>\n",
       "      <td>Ace of Cups Tarot Card Meaning     Free Taro...</td>\n",
       "      <td>1. The Ace of Cups tarot card is associated w...</td>\n",
       "    </tr>\n",
       "    <tr>\n",
       "      <th>1</th>\n",
       "      <td>Ace of Cups Tarot Card Meaning     Free Taro...</td>\n",
       "      <td>The Ace of Cups tarot card represents the beg...</td>\n",
       "    </tr>\n",
       "    <tr>\n",
       "      <th>2</th>\n",
       "      <td>Ace of Cups Tarot Card Meaning     Free Taro...</td>\n",
       "      <td>The Ace of Cups tarot card predicts success a...</td>\n",
       "    </tr>\n",
       "    <tr>\n",
       "      <th>3</th>\n",
       "      <td>Page of Wands Tarot Card Meaning     Free Ta...</td>\n",
       "      <td>1. The Page of Wands is energetic and active ...</td>\n",
       "    </tr>\n",
       "    <tr>\n",
       "      <th>4</th>\n",
       "      <td>Page of Wands Tarot Card Meaning     Free Ta...</td>\n",
       "      <td>The Page of Wands in relation to the question...</td>\n",
       "    </tr>\n",
       "  </tbody>\n",
       "</table>\n",
       "</div>"
      ],
      "text/plain": [
       "                                              prompt  \\\n",
       "0    Ace of Cups Tarot Card Meaning     Free Taro...   \n",
       "1    Ace of Cups Tarot Card Meaning     Free Taro...   \n",
       "2    Ace of Cups Tarot Card Meaning     Free Taro...   \n",
       "3    Page of Wands Tarot Card Meaning     Free Ta...   \n",
       "4    Page of Wands Tarot Card Meaning     Free Ta...   \n",
       "\n",
       "                                          completion  \n",
       "0   1. The Ace of Cups tarot card is associated w...  \n",
       "1   The Ace of Cups tarot card represents the beg...  \n",
       "2   The Ace of Cups tarot card predicts success a...  \n",
       "3   1. The Page of Wands is energetic and active ...  \n",
       "4   The Page of Wands in relation to the question...  "
      ]
     },
     "execution_count": 61,
     "metadata": {},
     "output_type": "execute_result"
    }
   ],
   "source": [
    "df.head()"
   ]
  },
  {
   "cell_type": "code",
   "execution_count": 34,
   "id": "9c57bf4a",
   "metadata": {},
   "outputs": [
    {
     "data": {
      "text/plain": [
       "(63, 16)"
      ]
     },
     "execution_count": 34,
     "metadata": {},
     "output_type": "execute_result"
    }
   ],
   "source": [
    "from sklearn.model_selection import train_test_split\n",
    "train_df, test_df = train_test_split(df, test_size=0.2, random_state=42)\n",
    "len(train_df), len(test_df)"
   ]
  },
  {
   "cell_type": "code",
   "execution_count": 37,
   "id": "7893b49a",
   "metadata": {},
   "outputs": [
    {
     "data": {
      "text/plain": [
       "0"
      ]
     },
     "execution_count": 37,
     "metadata": {},
     "output_type": "execute_result"
    }
   ],
   "source": [
    "df.text.str.contains('->').sum()"
   ]
  },
  {
   "cell_type": "code",
   "execution_count": 47,
   "id": "7716192e",
   "metadata": {},
   "outputs": [
    {
     "data": {
      "text/plain": [
       "{'prompt': \"  Ace of Cups Tarot Card Meaning     Free Tarot Reading  Menu Tarot Card Meanings Tarot Cards Love Tarot Daily Tarot Reading Tarot Horoscope Biorhythms I Ching Runes Spirit Guides Tarot App Live Tarot Reading Log in   Ace of Cups Abundance · Creativity · Intense relationship · Satisfaction · Success Ace of Cups Tarot card Ace of Cups's Meaning The Ace of Cups signifies the beginning of period of strong emotional health for you. Expect copious joy, happiness, and love to surround you during this time. Existing personal relationships may strengthen, meaningful new ones are likely to form. If marriage is in your future, you are likely to lay the foundations for it during this time. Past There have been numerous occasions that prove your creative talent and ability to succeed in your efforts. By being passionate and intensely focused, you have allowed for greater productivity. Present Good news is going to bring joy and extreme satisfaction to your life. Future The difficulties you face in the future will take a toll on your emotions, but in the end, will bring about abundant joy. Remembering this natural balance will bring you great rewards. Yes / No Key Interpretation The Ace of Cups represents overall satisfaction throughout all different areas of your life. It predicts success and abundance through use of good intuition and creativity. New relationships or possibly a birth or pregnancy could be associated with these positive outlooks. The answer is yes. \\n##\\nQuestion: 1. What is the Ace of Cups tarot card associated with?\\n##\\nAnswer:\",\n",
       " 'completion': ' 1. The Ace of Cups tarot card is associated with abundance, creativity, intense relationships, satisfaction, and success.'}"
      ]
     },
     "execution_count": 47,
     "metadata": {},
     "output_type": "execute_result"
    }
   ],
   "source": [
    "df_fake = df\n",
    "rows = []\n",
    "for i, row in df_fake.iterrows():\n",
    "    for q, a in zip((\"1.\" + row.questions).split('\\n'), (\"1.\" + row.answers).split('\\n')):\n",
    "        if len(q) >10 and len(a) >10:\n",
    "                rows.append({\"prompt\":f\"{row.text}\\n###\\nQuestion: {q[2:].strip()}\\n###\\n\", \"completion\":f\" {a[2:].strip()}\"})\n",
    "        \n",
    "rows[0]"
   ]
  },
  {
   "cell_type": "code",
   "execution_count": 48,
   "id": "d89a12ae",
   "metadata": {},
   "outputs": [
    {
     "data": {
      "text/plain": [
       "{'prompt': \"  Ace of Cups Tarot Card Meaning     Free Tarot Reading  Menu Tarot Card Meanings Tarot Cards Love Tarot Daily Tarot Reading Tarot Horoscope Biorhythms I Ching Runes Spirit Guides Tarot App Live Tarot Reading Log in   Ace of Cups Abundance · Creativity · Intense relationship · Satisfaction · Success Ace of Cups Tarot card Ace of Cups's Meaning The Ace of Cups signifies the beginning of period of strong emotional health for you. Expect copious joy, happiness, and love to surround you during this time. Existing personal relationships may strengthen, meaningful new ones are likely to form. If marriage is in your future, you are likely to lay the foundations for it during this time. Past There have been numerous occasions that prove your creative talent and ability to succeed in your efforts. By being passionate and intensely focused, you have allowed for greater productivity. Present Good news is going to bring joy and extreme satisfaction to your life. Future The difficulties you face in the future will take a toll on your emotions, but in the end, will bring about abundant joy. Remembering this natural balance will bring you great rewards. Yes / No Key Interpretation The Ace of Cups represents overall satisfaction throughout all different areas of your life. It predicts success and abundance through use of good intuition and creativity. New relationships or possibly a birth or pregnancy could be associated with these positive outlooks. The answer is yes. \\n##\\nQuestion: What does the Ace of Cups tarot card represent?\\n##\\nAnswer:\",\n",
       " 'completion': ' The Ace of Cups tarot card represents the beginning of a period of strong emotional health, copious joy, happiness, and love, and strengthened personal relationships.'}"
      ]
     },
     "execution_count": 48,
     "metadata": {},
     "output_type": "execute_result"
    }
   ],
   "source": [
    "rows[1]"
   ]
  },
  {
   "cell_type": "code",
   "execution_count": 54,
   "id": "c5a60e71",
   "metadata": {},
   "outputs": [
    {
     "data": {
      "text/plain": [
       "233"
      ]
     },
     "execution_count": 54,
     "metadata": {},
     "output_type": "execute_result"
    }
   ],
   "source": [
    "len(rows)"
   ]
  },
  {
   "cell_type": "code",
   "execution_count": 55,
   "id": "4cf974c2",
   "metadata": {},
   "outputs": [
    {
     "data": {
      "text/html": [
       "<div>\n",
       "<style scoped>\n",
       "    .dataframe tbody tr th:only-of-type {\n",
       "        vertical-align: middle;\n",
       "    }\n",
       "\n",
       "    .dataframe tbody tr th {\n",
       "        vertical-align: top;\n",
       "    }\n",
       "\n",
       "    .dataframe thead th {\n",
       "        text-align: right;\n",
       "    }\n",
       "</style>\n",
       "<table border=\"1\" class=\"dataframe\">\n",
       "  <thead>\n",
       "    <tr style=\"text-align: right;\">\n",
       "      <th></th>\n",
       "      <th>prompt</th>\n",
       "      <th>completion</th>\n",
       "    </tr>\n",
       "  </thead>\n",
       "  <tbody>\n",
       "    <tr>\n",
       "      <th>0</th>\n",
       "      <td>Ace of Cups Tarot Card Meaning     Free Taro...</td>\n",
       "      <td>1. The Ace of Cups tarot card is associated w...</td>\n",
       "    </tr>\n",
       "    <tr>\n",
       "      <th>1</th>\n",
       "      <td>Ace of Cups Tarot Card Meaning     Free Taro...</td>\n",
       "      <td>The Ace of Cups tarot card represents the beg...</td>\n",
       "    </tr>\n",
       "    <tr>\n",
       "      <th>2</th>\n",
       "      <td>Ace of Cups Tarot Card Meaning     Free Taro...</td>\n",
       "      <td>The Ace of Cups tarot card predicts success a...</td>\n",
       "    </tr>\n",
       "    <tr>\n",
       "      <th>3</th>\n",
       "      <td>Page of Wands Tarot Card Meaning     Free Ta...</td>\n",
       "      <td>1. The Page of Wands is energetic and active ...</td>\n",
       "    </tr>\n",
       "    <tr>\n",
       "      <th>4</th>\n",
       "      <td>Page of Wands Tarot Card Meaning     Free Ta...</td>\n",
       "      <td>The Page of Wands in relation to the question...</td>\n",
       "    </tr>\n",
       "  </tbody>\n",
       "</table>\n",
       "</div>"
      ],
      "text/plain": [
       "                                              prompt  \\\n",
       "0    Ace of Cups Tarot Card Meaning     Free Taro...   \n",
       "1    Ace of Cups Tarot Card Meaning     Free Taro...   \n",
       "2    Ace of Cups Tarot Card Meaning     Free Taro...   \n",
       "3    Page of Wands Tarot Card Meaning     Free Ta...   \n",
       "4    Page of Wands Tarot Card Meaning     Free Ta...   \n",
       "\n",
       "                                          completion  \n",
       "0   1. The Ace of Cups tarot card is associated w...  \n",
       "1   The Ace of Cups tarot card represents the beg...  \n",
       "2   The Ace of Cups tarot card predicts success a...  \n",
       "3   1. The Page of Wands is energetic and active ...  \n",
       "4   The Page of Wands in relation to the question...  "
      ]
     },
     "execution_count": 55,
     "metadata": {},
     "output_type": "execute_result"
    }
   ],
   "source": [
    "df = pd.DataFrame(rows)\n",
    "df.to_csv('processed/scraped_train.csv',index=False)\n",
    "df.head()"
   ]
  },
  {
   "cell_type": "code",
   "execution_count": 58,
   "id": "d846862f",
   "metadata": {},
   "outputs": [],
   "source": [
    "df.to_json('train/tarot_qa_scraped_train.jsonl', orient='records', lines=True)"
   ]
  },
  {
   "cell_type": "code",
   "execution_count": 59,
   "id": "8d77b023",
   "metadata": {},
   "outputs": [
    {
     "name": "stdout",
     "output_type": "stream",
     "text": [
      "Analyzing...\n",
      "\n",
      "- Your file contains 233 prompt-completion pairs\n",
      "- All prompts end with suffix `\\n##\\nAnswer:`. This suffix seems very long. Consider replacing with a shorter suffix, such as `\\n\\n###\\n\\n`\n",
      "- All prompts start with prefix `  `\n",
      "- All completions end with suffix `.`\n",
      "  WARNING: Some of your completions contain the suffix `.` more than once. We suggest that you review your completions and add a unique ending\n",
      "\n",
      "No remediations found.\n",
      "\n",
      "You can use your file for fine-tuning:\n",
      "> openai api fine_tunes.create -t \"train/tarot_qa_scraped_train.jsonl\"\n",
      "\n",
      "After you’ve fine-tuned a model, remember that your prompt has to end with the indicator string `\\n##\\nAnswer:` for the model to start generating completions, rather than continuing with the prompt. Make sure to include `stop=[\".\"]` so that the generated texts ends at the expected place.\n",
      "Once your model starts training, it'll approximately take 5.64 minutes to train a `curie` model, and less for `ada` and `babbage`. Queue will approximately take half an hour per job ahead of you.\n"
     ]
    }
   ],
   "source": [
    "!openai tools fine_tunes.prepare_data -f train/tarot_qa_scraped_train.jsonl"
   ]
  }
 ],
 "metadata": {
  "kernelspec": {
   "display_name": "Python 3 (ipykernel)",
   "language": "python",
   "name": "python3"
  },
  "language_info": {
   "codemirror_mode": {
    "name": "ipython",
    "version": 3
   },
   "file_extension": ".py",
   "mimetype": "text/x-python",
   "name": "python",
   "nbconvert_exporter": "python",
   "pygments_lexer": "ipython3",
   "version": "3.9.2"
  }
 },
 "nbformat": 4,
 "nbformat_minor": 5
}
